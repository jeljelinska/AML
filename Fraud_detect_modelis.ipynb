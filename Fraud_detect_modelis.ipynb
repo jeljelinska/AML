{
  "nbformat": 4,
  "nbformat_minor": 0,
  "metadata": {
    "colab": {
      "provenance": []
    },
    "kernelspec": {
      "name": "python3",
      "display_name": "Python 3"
    },
    "language_info": {
      "name": "python"
    }
  },
  "cells": [
    {
      "cell_type": "code",
      "execution_count": null,
      "metadata": {
        "id": "LAjoNA6awRDG"
      },
      "outputs": [],
      "source": [
        "import pandas as pd\n",
        "import math\n",
        "import numpy as np\n",
        "from sklearn.cluster import KMeans\n",
        "import matplotlib.pyplot as plt\n",
        "import random\n",
        "from sklearn.metrics import confusion_matrix\n",
        "df=pd.read_excel('Synthetic Data_FA-ICC_28.07.2023 (003)_Statical.xlsx', sheet_name='Transactions') # datu ielade\n",
        "df=df.iloc[:, : 15] # tikai pirmajas 15 kolonnas ir svariga info"
      ]
    },
    {
      "cell_type": "code",
      "source": [
        "train, test, val = df[:240000], df[240000:270000], df[270000:] # nevajag randomizet, jo viss jau taa ir randoms"
      ],
      "metadata": {
        "id": "4nhO-SmsxjHz"
      },
      "execution_count": null,
      "outputs": []
    },
    {
      "cell_type": "code",
      "source": [
        "train_np, test_np, val_np = train.to_numpy(), test.to_numpy(), val.to_numpy()\n",
        "train_np.shape, test_np.shape, val_np.shape # parbaude"
      ],
      "metadata": {
        "id": "PivcXTIkxw-0"
      },
      "execution_count": null,
      "outputs": []
    },
    {
      "cell_type": "code",
      "source": [
        "x_train, y_train = train_np[:, :-1], train_np[:, -1]\n",
        "x_test, y_test = test_np[:, :-1], test_np[:, -1]\n",
        "x_val, y_val = val_np[:, :-1], val_np[:, -1]\n",
        "x_train.shape, y_train.shape, x_test.shape, y_test.shape, x_val.shape, y_val.shape"
      ],
      "metadata": {
        "id": "OxLaFkQ7x1PL"
      },
      "execution_count": null,
      "outputs": []
    },
    {
      "cell_type": "code",
      "source": [
        "def neural_net_predictions(model, x):\n",
        "    return (model.predict(x).flatten() > 0.5).astype(int) # nevajag speleties ar treshhold values, jo sis modelis ir vienkars, bet ja loti gribas...."
      ],
      "metadata": {
        "id": "Mat006L3x6Ay"
      },
      "execution_count": null,
      "outputs": []
    },
    {
      "cell_type": "code",
      "source": [
        "from tensorflow.keras.models import Sequential\n",
        "from tensorflow.keras.layers import Dense, BatchNormalization, Dropout, InputLayer\n",
        "from tensorflow.keras.callbacks import ModelCheckpoint, EarlyStopping\n",
        "from tensorflow.keras.optimizers import Adam\n",
        "\n",
        "# NN\n",
        "model = Sequential()\n",
        "model.add(InputLayer((x_train.shape[1],)))\n",
        "\n",
        "# pirmais pasleptais slanis\n",
        "model.add(Dense(64, activation='relu'))\n",
        "model.add(BatchNormalization())\n",
        "model.add(Dropout(0.5))\n",
        "\n",
        "# otrais slanis\n",
        "model.add(Dense(32, activation='relu'))\n",
        "model.add(BatchNormalization())\n",
        "model.add(Dropout(0.5))\n",
        "\n",
        "# klasifikacija - ir fraud vai nav\n",
        "model.add(Dense(1, activation='sigmoid'))\n",
        "\n",
        "# kompilesana\n",
        "model.compile(optimizer=Adam(learning_rate=0.001), loss='binary_crossentropy', metrics=['accuracy', 'Recall']) # recall, jo ir loti svarigi ka pareizi klasifice '1', kuru ir mazakums\n",
        "\n",
        "# callbacks\n",
        "checkpoint = ModelCheckpoint('best_model.h5', monitor='val_recall', mode='max', save_best_only=True, verbose=1)\n",
        "early_stopping = EarlyStopping(monitor='val_recall', mode='max', patience=5, verbose=1, restore_best_weights=True)\n",
        "\n",
        "# train_model\n",
        "history = model.fit(\n",
        "    x_train, y_train,\n",
        "    validation_data=(x_val, y_val),\n",
        "    epochs=50,\n",
        "    batch_size=16,  # izvelets pec\n",
        "    callbacks=[checkpoint, early_stopping],\n",
        "    verbose=1\n",
        ")"
      ],
      "metadata": {
        "id": "ofebHgWbwl-K"
      },
      "execution_count": null,
      "outputs": []
    },
    {
      "cell_type": "code",
      "source": [
        "from sklearn.metrics import classification_report\n",
        "print(classification_report(y_val, neural_net_predictions(model, x_val), target_names=['Not Fraud', 'Fraud']))"
      ],
      "metadata": {
        "id": "B5o9eT8jxV8V"
      },
      "execution_count": null,
      "outputs": []
    }
  ]
}